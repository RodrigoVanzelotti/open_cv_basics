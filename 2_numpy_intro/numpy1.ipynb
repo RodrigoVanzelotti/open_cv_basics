{
 "cells": [
  {
   "attachments": {},
   "cell_type": "markdown",
   "metadata": {},
   "source": [
    "# What is Numpy?\n",
    "O NumPy (abreviação de Numerical Python) é uma biblioteca de código aberto para Python que é usada principalmente para computação científica e análise de dados. É um pacote fundamental para muitas aplicações em Python, pois fornece suporte para matrizes e operações matemáticas de alto desempenho.\n",
    "\n",
    "O NumPy foi desenvolvido com a ideia de que muitas operações matemáticas que são comuns em aplicações científicas e de engenharia podem ser expressas como operações em matrizes. Essa ideia é fundamental para o uso eficiente do NumPy, pois permite que ele aproveite as capacidades de hardware de processamento em paralelo e outras otimizações de baixo nível que podem ser usadas para acelerar o processamento de matrizes.\n",
    "\n",
    "Um exemplo de uso comum do NumPy é a manipulação de imagens em Python. As imagens digitais são representadas como matrizes de pixels, e o NumPy oferece uma maneira fácil e eficiente de realizar operações em matrizes, como adição, multiplicação e outras transformações lineares. Além disso, o NumPy é usado em muitas outras áreas, como modelagem estatística, aprendizado de máquina, análise de dados financeiros e física teórica.\n",
    "\n",
    "Aqui está um exemplo simples de como criar uma matriz usando NumPy em Python:"
   ]
  },
  {
   "cell_type": "code",
   "execution_count": 3,
   "metadata": {},
   "outputs": [],
   "source": [
    "import numpy as np              # pip install numpy\n",
    "import sys"
   ]
  },
  {
   "cell_type": "code",
   "execution_count": 2,
   "metadata": {},
   "outputs": [
    {
     "name": "stdout",
     "output_type": "stream",
     "text": [
      "[[1 2 3]\n",
      " [4 5 6]]\n"
     ]
    }
   ],
   "source": [
    "# Cria uma matriz 2x3\n",
    "matriz = np.array([[1, 2, 3], [4, 5, 6]])\n",
    "\n",
    "# Imprime a matriz\n",
    "print(matriz)"
   ]
  },
  {
   "attachments": {},
   "cell_type": "markdown",
   "metadata": {},
   "source": [
    "Neste exemplo, importamos a biblioteca NumPy como \"np\" e usamos a função \"array\" para criar uma matriz de duas linhas e três colunas.\n",
    "É importante que vocês tenham uma noção da lógica de como funciona o Numpy por debaixo dos panos. Por isso trataremos sobre na próxima aula, e na sequência iremos para os códigos"
   ]
  }
 ],
 "metadata": {
  "kernelspec": {
   "display_name": "Python 3",
   "language": "python",
   "name": "python3"
  },
  "language_info": {
   "codemirror_mode": {
    "name": "ipython",
    "version": 3
   },
   "file_extension": ".py",
   "mimetype": "text/x-python",
   "name": "python",
   "nbconvert_exporter": "python",
   "pygments_lexer": "ipython3",
   "version": "3.10.4"
  },
  "orig_nbformat": 4
 },
 "nbformat": 4,
 "nbformat_minor": 2
}
